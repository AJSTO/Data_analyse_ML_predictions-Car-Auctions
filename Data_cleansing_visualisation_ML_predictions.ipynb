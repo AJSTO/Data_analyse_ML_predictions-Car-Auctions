{
 "cells": [
  {
   "cell_type": "markdown",
   "id": "907bc89a-33a2-4fd3-a8b4-e9b09704b42e",
   "metadata": {},
   "source": [
    "Data used: https://www.kaggle.com/datasets/adityadesai13/used-car-dataset-ford-and-mercedes/discussion"
   ]
  },
  {
   "cell_type": "markdown",
   "id": "36721784-b0a2-4f6f-88fa-8852282cb215",
   "metadata": {},
   "source": [
    "Importing libraries."
   ]
  },
  {
   "cell_type": "code",
   "execution_count": 1,
   "id": "4df479e9-6629-4785-a95c-d06dcfba98ef",
   "metadata": {},
   "outputs": [],
   "source": [
    "import numpy as np\n",
    "import pandas as pd\n",
    "import matplotlib.pyplot as plt\n",
    "import seaborn as sns\n",
    "import string\n",
    "import collections\n",
    "import pylab\n",
    "from sklearn.linear_model import LinearRegression \n",
    "from sklearn.model_selection import train_test_split\n",
    "from sklearn.preprocessing import PolynomialFeatures\n"
   ]
  },
  {
   "cell_type": "code",
   "execution_count": 2,
   "id": "588565cb-c7e2-464b-bbd9-0034e28c98a2",
   "metadata": {},
   "outputs": [],
   "source": [
    "df_focus = pd.read_csv('path/to/file/unclean focus.csv')"
   ]
  },
  {
   "cell_type": "markdown",
   "id": "c0cbd8fd-1f69-4184-bd76-c82ebae49bfc",
   "metadata": {},
   "source": [
    "Get shape of our dataset before cleaning."
   ]
  },
  {
   "cell_type": "code",
   "execution_count": 3,
   "id": "6acf46a4-f6ef-49d8-8044-03baf583084b",
   "metadata": {},
   "outputs": [
    {
     "data": {
      "text/plain": [
       "(5604, 11)"
      ]
     },
     "execution_count": 3,
     "metadata": {},
     "output_type": "execute_result"
    }
   ],
   "source": [
    "df_focus.shape"
   ]
  },
  {
   "cell_type": "code",
   "execution_count": 4,
   "id": "94d311ee-8884-418c-b73a-e97d9cb861db",
   "metadata": {},
   "outputs": [
    {
     "data": {
      "text/html": [
       "<div>\n",
       "<style scoped>\n",
       "    .dataframe tbody tr th:only-of-type {\n",
       "        vertical-align: middle;\n",
       "    }\n",
       "\n",
       "    .dataframe tbody tr th {\n",
       "        vertical-align: top;\n",
       "    }\n",
       "\n",
       "    .dataframe thead th {\n",
       "        text-align: right;\n",
       "    }\n",
       "</style>\n",
       "<table border=\"1\" class=\"dataframe\">\n",
       "  <thead>\n",
       "    <tr style=\"text-align: right;\">\n",
       "      <th></th>\n",
       "      <th>model</th>\n",
       "      <th>year</th>\n",
       "      <th>price</th>\n",
       "      <th>transmission</th>\n",
       "      <th>mileage</th>\n",
       "      <th>fuel type</th>\n",
       "      <th>engine size</th>\n",
       "      <th>mileage2</th>\n",
       "      <th>fuel type2</th>\n",
       "      <th>engine size2</th>\n",
       "      <th>reference</th>\n",
       "    </tr>\n",
       "  </thead>\n",
       "  <tbody>\n",
       "    <tr>\n",
       "      <th>0</th>\n",
       "      <td>Focus</td>\n",
       "      <td>2016.0</td>\n",
       "      <td>£8,000</td>\n",
       "      <td>Manual</td>\n",
       "      <td>NaN</td>\n",
       "      <td>Petrol</td>\n",
       "      <td>0.999</td>\n",
       "      <td>38,852</td>\n",
       "      <td>NaN</td>\n",
       "      <td>NaN</td>\n",
       "      <td>/ad/25451236</td>\n",
       "    </tr>\n",
       "    <tr>\n",
       "      <th>1</th>\n",
       "      <td>Focus</td>\n",
       "      <td>2019.0</td>\n",
       "      <td>£13,400</td>\n",
       "      <td>Manual</td>\n",
       "      <td>NaN</td>\n",
       "      <td>Petrol</td>\n",
       "      <td>0.999</td>\n",
       "      <td>11,952</td>\n",
       "      <td>NaN</td>\n",
       "      <td>NaN</td>\n",
       "      <td>/ad/25466927</td>\n",
       "    </tr>\n",
       "    <tr>\n",
       "      <th>2</th>\n",
       "      <td>Focus</td>\n",
       "      <td>2019.0</td>\n",
       "      <td>£14,600</td>\n",
       "      <td>Manual</td>\n",
       "      <td>NaN</td>\n",
       "      <td>Petrol</td>\n",
       "      <td>1.498</td>\n",
       "      <td>22,142</td>\n",
       "      <td>NaN</td>\n",
       "      <td>NaN</td>\n",
       "      <td>/ad/25484363</td>\n",
       "    </tr>\n",
       "    <tr>\n",
       "      <th>3</th>\n",
       "      <td>Focus</td>\n",
       "      <td>2016.0</td>\n",
       "      <td>£9,450</td>\n",
       "      <td>Manual</td>\n",
       "      <td>NaN</td>\n",
       "      <td>Diesel</td>\n",
       "      <td>1.56</td>\n",
       "      <td>14,549</td>\n",
       "      <td>NaN</td>\n",
       "      <td>NaN</td>\n",
       "      <td>/ad/20444868</td>\n",
       "    </tr>\n",
       "    <tr>\n",
       "      <th>4</th>\n",
       "      <td>Focus</td>\n",
       "      <td>2015.0</td>\n",
       "      <td>£9,999</td>\n",
       "      <td>Manual</td>\n",
       "      <td>NaN</td>\n",
       "      <td>Diesel</td>\n",
       "      <td>1.56</td>\n",
       "      <td>7,010</td>\n",
       "      <td>NaN</td>\n",
       "      <td>NaN</td>\n",
       "      <td>/ad/22551057</td>\n",
       "    </tr>\n",
       "    <tr>\n",
       "      <th>...</th>\n",
       "      <td>...</td>\n",
       "      <td>...</td>\n",
       "      <td>...</td>\n",
       "      <td>...</td>\n",
       "      <td>...</td>\n",
       "      <td>...</td>\n",
       "      <td>...</td>\n",
       "      <td>...</td>\n",
       "      <td>...</td>\n",
       "      <td>...</td>\n",
       "      <td>...</td>\n",
       "    </tr>\n",
       "    <tr>\n",
       "      <th>95</th>\n",
       "      <td>Focus</td>\n",
       "      <td>2019.0</td>\n",
       "      <td>£21,570</td>\n",
       "      <td>Automatic</td>\n",
       "      <td>NaN</td>\n",
       "      <td>Diesel</td>\n",
       "      <td>2</td>\n",
       "      <td>8,566</td>\n",
       "      <td>NaN</td>\n",
       "      <td>NaN</td>\n",
       "      <td>/ad/25444759</td>\n",
       "    </tr>\n",
       "    <tr>\n",
       "      <th>96</th>\n",
       "      <td>Focus</td>\n",
       "      <td>2019.0</td>\n",
       "      <td>£21,680</td>\n",
       "      <td>Automatic</td>\n",
       "      <td>NaN</td>\n",
       "      <td>Diesel</td>\n",
       "      <td>2</td>\n",
       "      <td>7,846</td>\n",
       "      <td>NaN</td>\n",
       "      <td>NaN</td>\n",
       "      <td>/ad/25444760</td>\n",
       "    </tr>\n",
       "    <tr>\n",
       "      <th>97</th>\n",
       "      <td>Focus</td>\n",
       "      <td>2019.0</td>\n",
       "      <td>£20,480</td>\n",
       "      <td>Manual</td>\n",
       "      <td>NaN</td>\n",
       "      <td>Petrol</td>\n",
       "      <td>1.5</td>\n",
       "      <td>4,711</td>\n",
       "      <td>NaN</td>\n",
       "      <td>NaN</td>\n",
       "      <td>/ad/25444762</td>\n",
       "    </tr>\n",
       "    <tr>\n",
       "      <th>98</th>\n",
       "      <td>Focus</td>\n",
       "      <td>2019.0</td>\n",
       "      <td>£17,500</td>\n",
       "      <td>Automatic</td>\n",
       "      <td>NaN</td>\n",
       "      <td>Petrol</td>\n",
       "      <td>1</td>\n",
       "      <td>12,877</td>\n",
       "      <td>NaN</td>\n",
       "      <td>NaN</td>\n",
       "      <td>/ad/25444765</td>\n",
       "    </tr>\n",
       "    <tr>\n",
       "      <th>99</th>\n",
       "      <td>Focus</td>\n",
       "      <td>2019.0</td>\n",
       "      <td>£19,375</td>\n",
       "      <td>Manual</td>\n",
       "      <td>NaN</td>\n",
       "      <td>Diesel</td>\n",
       "      <td>1.5</td>\n",
       "      <td>7,021</td>\n",
       "      <td>NaN</td>\n",
       "      <td>NaN</td>\n",
       "      <td>/ad/25444770</td>\n",
       "    </tr>\n",
       "  </tbody>\n",
       "</table>\n",
       "<p>100 rows × 11 columns</p>\n",
       "</div>"
      ],
      "text/plain": [
       "     model    year     price transmission mileage fuel type engine size  \\\n",
       "0    Focus  2016.0    £8,000       Manual     NaN    Petrol       0.999   \n",
       "1    Focus  2019.0   £13,400       Manual     NaN    Petrol       0.999   \n",
       "2    Focus  2019.0   £14,600       Manual     NaN    Petrol       1.498   \n",
       "3    Focus  2016.0    £9,450       Manual     NaN    Diesel        1.56   \n",
       "4    Focus  2015.0    £9,999       Manual     NaN    Diesel        1.56   \n",
       "..     ...     ...       ...          ...     ...       ...         ...   \n",
       "95   Focus  2019.0   £21,570    Automatic     NaN    Diesel           2   \n",
       "96   Focus  2019.0   £21,680    Automatic     NaN    Diesel           2   \n",
       "97   Focus  2019.0   £20,480       Manual     NaN    Petrol         1.5   \n",
       "98   Focus  2019.0   £17,500    Automatic     NaN    Petrol           1   \n",
       "99   Focus  2019.0   £19,375       Manual     NaN    Diesel         1.5   \n",
       "\n",
       "   mileage2 fuel type2 engine size2     reference  \n",
       "0    38,852        NaN          NaN  /ad/25451236  \n",
       "1    11,952        NaN          NaN  /ad/25466927  \n",
       "2    22,142        NaN          NaN  /ad/25484363  \n",
       "3    14,549        NaN          NaN  /ad/20444868  \n",
       "4     7,010        NaN          NaN  /ad/22551057  \n",
       "..      ...        ...          ...           ...  \n",
       "95    8,566        NaN          NaN  /ad/25444759  \n",
       "96    7,846        NaN          NaN  /ad/25444760  \n",
       "97    4,711        NaN          NaN  /ad/25444762  \n",
       "98   12,877        NaN          NaN  /ad/25444765  \n",
       "99    7,021        NaN          NaN  /ad/25444770  \n",
       "\n",
       "[100 rows x 11 columns]"
      ]
     },
     "execution_count": 4,
     "metadata": {},
     "output_type": "execute_result"
    }
   ],
   "source": [
    "df_focus.head(100)"
   ]
  },
  {
   "cell_type": "markdown",
   "id": "073048ab-0750-47a6-85e7-b673cfaeb69b",
   "metadata": {},
   "source": [
    "There are two columns with engine, if column 'engine size2' if empty there is a value in column\n",
    "'engine size'. Column 'engine size' has wrong values with symbol of pound."
   ]
  },
  {
   "cell_type": "code",
   "execution_count": 5,
   "id": "8b0e5617-7e4a-4798-80f5-f23d02038ca7",
   "metadata": {},
   "outputs": [],
   "source": [
    "engine_size = df_focus['engine size2'].fillna(df_focus['engine size'])\n",
    "df_focus['ES'] =engine_size\n",
    "\n"
   ]
  },
  {
   "cell_type": "markdown",
   "id": "d4fa9f11-5db1-42f5-b7ec-4d18144c77ff",
   "metadata": {},
   "source": [
    "We can see that in data are values that are not converted to liters or have letters.\n",
    "Now we will convert that data into desired form."
   ]
  },
  {
   "cell_type": "code",
   "execution_count": 6,
   "id": "37d3cd57-410c-4277-b359-51210c51d90a",
   "metadata": {},
   "outputs": [
    {
     "data": {
      "text/plain": [
       "array(['0.999', '1.498', '1.56', '999', '1000', '2300', '1498', '1.5',\n",
       "       '1.499', '1.596', '1.997', '2', '1', '1500', '1.6', '2.3', '1.8',\n",
       "       '1600', '1999', '1596', '1798', nan, '1560', '998', '1997', '1499',\n",
       "       '1560 cc', '2000', '1988', '2521', '2261', '0', '0.998', '1496',\n",
       "       '1753', '1989', '2.5', '1596 cc', '2.29', 'Unknown', '2.521',\n",
       "       '1388', '1.0T', ' 2,00 cc'], dtype=object)"
      ]
     },
     "execution_count": 6,
     "metadata": {},
     "output_type": "execute_result"
    }
   ],
   "source": [
    "df_focus['ES'].unique()"
   ]
  },
  {
   "cell_type": "code",
   "execution_count": 7,
   "id": "12a83d63-2804-4895-8a53-be2f509190b7",
   "metadata": {},
   "outputs": [],
   "source": [
    "df_focus['ES'] = df_focus['ES'].str.strip(string.ascii_letters)  # stripping from ascii letters.\n",
    "df_focus['ES'] = df_focus['ES'].str.strip(' ')\n",
    "df_focus['ES'] = df_focus['ES'].str.replace(',','.')\n",
    "df_focus['ES'] = pd.to_numeric(df_focus['ES'])  # convert string to numeric.\n",
    "df_focus['ES'] = df_focus['ES'].apply(lambda x: x / 1000 if x > 900 else x)\n",
    "df_focus['ES'] = df_focus['ES'].apply(lambda x: x if x > 0 else np.nan)\n",
    "#df_focus['ES'] = df_focus['ES'][df_focus['ES'].notnull()]  # dropping if value is NaN. other way when only one column is array\n",
    "df_focus['ES'] = np.round(df_focus['ES'], 1)\n",
    "#df_focus['ES'].dropna(axis=0, inplace=True) # dropping if value is NaN.\n",
    "\n"
   ]
  },
  {
   "cell_type": "markdown",
   "id": "87c0e428-b476-41bd-91a2-a678aa7e874b",
   "metadata": {},
   "source": [
    "Finally we get data in form that we wanted. Only NaN value we should delete, which will be done in future."
   ]
  },
  {
   "cell_type": "code",
   "execution_count": 8,
   "id": "2a4489ea-dd50-4333-a803-71f25fa19095",
   "metadata": {},
   "outputs": [
    {
     "data": {
      "text/plain": [
       "array([1. , 1.5, 1.6, 2.3, 2. , 1.8, nan, 2.5, 1.4])"
      ]
     },
     "execution_count": 8,
     "metadata": {},
     "output_type": "execute_result"
    }
   ],
   "source": [
    "df_focus['ES'].unique()"
   ]
  },
  {
   "cell_type": "markdown",
   "id": "fb1e6c0c-421f-41d5-8b16-87313e243a78",
   "metadata": {},
   "source": [
    "There are two columns with mileage. Column 'mileage' is correct so we will fill here nan values \n",
    "from column 'mileage2'. Next we will convert it into float."
   ]
  },
  {
   "cell_type": "code",
   "execution_count": 9,
   "id": "00cf5ff7-5c42-4dab-a856-466d6ccc8e0d",
   "metadata": {},
   "outputs": [],
   "source": [
    "mileage = df_focus['mileage'].fillna(df_focus['mileage2'])\n",
    "df_focus['MIL'] = mileage\n",
    "df_focus['MIL'] = df_focus['MIL'].str.replace(',','')\n",
    "df_focus['MIL'] = pd.to_numeric(df_focus['MIL'],errors='coerce')  # convert to string, drop row if error.\n"
   ]
  },
  {
   "cell_type": "code",
   "execution_count": 10,
   "id": "00299993-c664-4997-9e0a-370c0f27d96f",
   "metadata": {},
   "outputs": [
    {
     "data": {
      "text/plain": [
       "0    38852.0\n",
       "1    11952.0\n",
       "2    22142.0\n",
       "3    14549.0\n",
       "4     7010.0\n",
       "Name: MIL, dtype: float64"
      ]
     },
     "execution_count": 10,
     "metadata": {},
     "output_type": "execute_result"
    }
   ],
   "source": [
    "df_focus['MIL'].head()\n"
   ]
  },
  {
   "cell_type": "markdown",
   "id": "1316d134-4022-420c-9128-f4d0798b1ab3",
   "metadata": {},
   "source": [
    "There are two columns with fuel type so now we will fill nan values in column 'fuel type' with \n",
    "values from column 'fuel type2'."
   ]
  },
  {
   "cell_type": "code",
   "execution_count": 11,
   "id": "68b9fea7-bdfe-4686-ae43-3649251b7967",
   "metadata": {},
   "outputs": [],
   "source": [
    "fuel_type = df_focus['fuel type2'].fillna(df_focus['fuel type'])\n",
    "df_focus['FT'] = fuel_type\n",
    "\n"
   ]
  },
  {
   "cell_type": "markdown",
   "id": "b1863864-0865-4f87-b557-ee05d4cb3407",
   "metadata": {},
   "source": [
    "We have value 'other', need to know how many others is in columns, if small amount will be dropped."
   ]
  },
  {
   "cell_type": "code",
   "execution_count": 12,
   "id": "6f94133d-0c6e-4ebd-92f8-eb2a5dfbe85f",
   "metadata": {},
   "outputs": [
    {
     "data": {
      "text/plain": [
       "array(['Petrol', 'Diesel', nan, 'Other'], dtype=object)"
      ]
     },
     "execution_count": 12,
     "metadata": {},
     "output_type": "execute_result"
    }
   ],
   "source": [
    "df_focus['FT'].unique()"
   ]
  },
  {
   "cell_type": "code",
   "execution_count": 13,
   "id": "6fdda4d5-c87f-4600-9bd6-fa70f6d7c2c7",
   "metadata": {},
   "outputs": [
    {
     "data": {
      "text/plain": [
       "Counter({'Petrol': 3606, 'Diesel': 1941, nan: 56, 'Other': 1})"
      ]
     },
     "execution_count": 13,
     "metadata": {},
     "output_type": "execute_result"
    }
   ],
   "source": [
    "collections.Counter(df_focus['FT'])  # because of error with np.unique() method use collections.Counter\n"
   ]
  },
  {
   "cell_type": "code",
   "execution_count": 14,
   "id": "210ea2b0-2663-4aca-a28f-0d7ac21bc70a",
   "metadata": {},
   "outputs": [],
   "source": [
    "df_focus = df_focus[df_focus['FT']!='Other']  # handling with 'Other' value."
   ]
  },
  {
   "cell_type": "markdown",
   "id": "b188755f-ea29-462f-ac50-482bbd885e96",
   "metadata": {},
   "source": [
    "So now we have data like we want, only NaN value we should delete. In next step we will drop all NaN values from all DF."
   ]
  },
  {
   "cell_type": "code",
   "execution_count": 15,
   "id": "740cdeb4-fae7-460c-8730-64504e6544f5",
   "metadata": {},
   "outputs": [
    {
     "data": {
      "text/plain": [
       "array(['Petrol', 'Diesel', nan], dtype=object)"
      ]
     },
     "execution_count": 15,
     "metadata": {},
     "output_type": "execute_result"
    }
   ],
   "source": [
    "df_focus['FT'].unique()\n"
   ]
  },
  {
   "cell_type": "code",
   "execution_count": 16,
   "id": "53a86403-e017-4c34-904e-877d7beba8ee",
   "metadata": {},
   "outputs": [
    {
     "data": {
      "text/html": [
       "<div>\n",
       "<style scoped>\n",
       "    .dataframe tbody tr th:only-of-type {\n",
       "        vertical-align: middle;\n",
       "    }\n",
       "\n",
       "    .dataframe tbody tr th {\n",
       "        vertical-align: top;\n",
       "    }\n",
       "\n",
       "    .dataframe thead th {\n",
       "        text-align: right;\n",
       "    }\n",
       "</style>\n",
       "<table border=\"1\" class=\"dataframe\">\n",
       "  <thead>\n",
       "    <tr style=\"text-align: right;\">\n",
       "      <th></th>\n",
       "      <th>model</th>\n",
       "      <th>year</th>\n",
       "      <th>price</th>\n",
       "      <th>transmission</th>\n",
       "      <th>mileage</th>\n",
       "      <th>fuel type</th>\n",
       "      <th>engine size</th>\n",
       "      <th>mileage2</th>\n",
       "      <th>fuel type2</th>\n",
       "      <th>engine size2</th>\n",
       "      <th>reference</th>\n",
       "      <th>ES</th>\n",
       "      <th>MIL</th>\n",
       "      <th>FT</th>\n",
       "    </tr>\n",
       "  </thead>\n",
       "  <tbody>\n",
       "    <tr>\n",
       "      <th>0</th>\n",
       "      <td>Focus</td>\n",
       "      <td>2016.0</td>\n",
       "      <td>£8,000</td>\n",
       "      <td>Manual</td>\n",
       "      <td>NaN</td>\n",
       "      <td>Petrol</td>\n",
       "      <td>0.999</td>\n",
       "      <td>38,852</td>\n",
       "      <td>NaN</td>\n",
       "      <td>NaN</td>\n",
       "      <td>/ad/25451236</td>\n",
       "      <td>1.0</td>\n",
       "      <td>38852.0</td>\n",
       "      <td>Petrol</td>\n",
       "    </tr>\n",
       "    <tr>\n",
       "      <th>1</th>\n",
       "      <td>Focus</td>\n",
       "      <td>2019.0</td>\n",
       "      <td>£13,400</td>\n",
       "      <td>Manual</td>\n",
       "      <td>NaN</td>\n",
       "      <td>Petrol</td>\n",
       "      <td>0.999</td>\n",
       "      <td>11,952</td>\n",
       "      <td>NaN</td>\n",
       "      <td>NaN</td>\n",
       "      <td>/ad/25466927</td>\n",
       "      <td>1.0</td>\n",
       "      <td>11952.0</td>\n",
       "      <td>Petrol</td>\n",
       "    </tr>\n",
       "    <tr>\n",
       "      <th>2</th>\n",
       "      <td>Focus</td>\n",
       "      <td>2019.0</td>\n",
       "      <td>£14,600</td>\n",
       "      <td>Manual</td>\n",
       "      <td>NaN</td>\n",
       "      <td>Petrol</td>\n",
       "      <td>1.498</td>\n",
       "      <td>22,142</td>\n",
       "      <td>NaN</td>\n",
       "      <td>NaN</td>\n",
       "      <td>/ad/25484363</td>\n",
       "      <td>1.5</td>\n",
       "      <td>22142.0</td>\n",
       "      <td>Petrol</td>\n",
       "    </tr>\n",
       "    <tr>\n",
       "      <th>3</th>\n",
       "      <td>Focus</td>\n",
       "      <td>2016.0</td>\n",
       "      <td>£9,450</td>\n",
       "      <td>Manual</td>\n",
       "      <td>NaN</td>\n",
       "      <td>Diesel</td>\n",
       "      <td>1.56</td>\n",
       "      <td>14,549</td>\n",
       "      <td>NaN</td>\n",
       "      <td>NaN</td>\n",
       "      <td>/ad/20444868</td>\n",
       "      <td>1.6</td>\n",
       "      <td>14549.0</td>\n",
       "      <td>Diesel</td>\n",
       "    </tr>\n",
       "    <tr>\n",
       "      <th>4</th>\n",
       "      <td>Focus</td>\n",
       "      <td>2015.0</td>\n",
       "      <td>£9,999</td>\n",
       "      <td>Manual</td>\n",
       "      <td>NaN</td>\n",
       "      <td>Diesel</td>\n",
       "      <td>1.56</td>\n",
       "      <td>7,010</td>\n",
       "      <td>NaN</td>\n",
       "      <td>NaN</td>\n",
       "      <td>/ad/22551057</td>\n",
       "      <td>1.6</td>\n",
       "      <td>7010.0</td>\n",
       "      <td>Diesel</td>\n",
       "    </tr>\n",
       "  </tbody>\n",
       "</table>\n",
       "</div>"
      ],
      "text/plain": [
       "    model    year     price transmission mileage fuel type engine size  \\\n",
       "0   Focus  2016.0    £8,000       Manual     NaN    Petrol       0.999   \n",
       "1   Focus  2019.0   £13,400       Manual     NaN    Petrol       0.999   \n",
       "2   Focus  2019.0   £14,600       Manual     NaN    Petrol       1.498   \n",
       "3   Focus  2016.0    £9,450       Manual     NaN    Diesel        1.56   \n",
       "4   Focus  2015.0    £9,999       Manual     NaN    Diesel        1.56   \n",
       "\n",
       "  mileage2 fuel type2 engine size2     reference   ES      MIL      FT  \n",
       "0   38,852        NaN          NaN  /ad/25451236  1.0  38852.0  Petrol  \n",
       "1   11,952        NaN          NaN  /ad/25466927  1.0  11952.0  Petrol  \n",
       "2   22,142        NaN          NaN  /ad/25484363  1.5  22142.0  Petrol  \n",
       "3   14,549        NaN          NaN  /ad/20444868  1.6  14549.0  Diesel  \n",
       "4    7,010        NaN          NaN  /ad/22551057  1.6   7010.0  Diesel  "
      ]
     },
     "execution_count": 16,
     "metadata": {},
     "output_type": "execute_result"
    }
   ],
   "source": [
    "df_focus.head()"
   ]
  },
  {
   "cell_type": "markdown",
   "id": "f78439fe-fa9c-4425-a128-dec7f19eab26",
   "metadata": {},
   "source": [
    "Changing price to numeric value."
   ]
  },
  {
   "cell_type": "code",
   "execution_count": 17,
   "id": "8bcbd437-2a10-4b73-9d4e-2cd82880e220",
   "metadata": {},
   "outputs": [],
   "source": [
    "df_focus['price'] = df_focus['price'].str.replace('£','') \n",
    "df_focus['price'] = df_focus['price'].str.replace(',','') \n",
    "df_focus['price'] = pd.to_numeric(df_focus['price'])"
   ]
  },
  {
   "cell_type": "markdown",
   "id": "20ec6533-748e-4d65-b49f-f0f559e5f019",
   "metadata": {},
   "source": [
    "Dropping unnecesary columns, formating columns labels, reindexing columns and also NaN values."
   ]
  },
  {
   "cell_type": "code",
   "execution_count": 18,
   "id": "65fd0f4e-11b2-4511-ade4-96080848cdca",
   "metadata": {},
   "outputs": [],
   "source": [
    "df_focus.reset_index(inplace=True)\n",
    "df_focus.drop(labels=[\n",
    "    'mileage', 'fuel type', 'engine size', 'mileage2', 'engine size2', 'reference', 'fuel type2', 'index'], \n",
    "              axis=1, inplace=True\n",
    "             )\n",
    "df_focus.rename(mapper={\n",
    "    'ES': 'engine size',\n",
    "    'MIL': 'mileage',\n",
    "    'FT': 'fuel type',\n",
    "    'price': 'pricePD',\n",
    "    },\n",
    "                axis= 1,inplace=True\n",
    "               )\n",
    "df_focus.reindex(labels=[\n",
    "    'model', 'year', 'price', 'mileage', 'engine size', 'fuel type', 'transmission'], \n",
    "                 axis=1\n",
    "                 )\n",
    "df_focus.dropna(inplace=True)"
   ]
  },
  {
   "cell_type": "markdown",
   "id": "b8dc5854-4735-4bef-aafc-943ef0e56454",
   "metadata": {},
   "source": [
    "Get shape of our dataset after cleaning."
   ]
  },
  {
   "cell_type": "code",
   "execution_count": 19,
   "id": "392a6202-1ec4-4352-af8f-c67157c9525f",
   "metadata": {},
   "outputs": [
    {
     "data": {
      "text/plain": [
       "(5442, 7)"
      ]
     },
     "execution_count": 19,
     "metadata": {},
     "output_type": "execute_result"
    }
   ],
   "source": [
    "df_focus.shape"
   ]
  },
  {
   "cell_type": "markdown",
   "id": "734947a9-0d67-4cde-b157-52d26d312c3a",
   "metadata": {},
   "source": [
    "Removing decimal points from values in column 'year' and 'MIL'."
   ]
  },
  {
   "cell_type": "code",
   "execution_count": 20,
   "id": "82a52b01-0242-4a49-8ef9-307c9ee530fa",
   "metadata": {},
   "outputs": [],
   "source": [
    "df_focus['year'] = df_focus['year'].astype(int)\n",
    "df_focus['mileage'] = df_focus['mileage'].astype(int)"
   ]
  },
  {
   "cell_type": "code",
   "execution_count": 21,
   "id": "ab4a3d79-d7a6-4977-bd35-0363146f1b6a",
   "metadata": {},
   "outputs": [
    {
     "data": {
      "text/html": [
       "<div>\n",
       "<style scoped>\n",
       "    .dataframe tbody tr th:only-of-type {\n",
       "        vertical-align: middle;\n",
       "    }\n",
       "\n",
       "    .dataframe tbody tr th {\n",
       "        vertical-align: top;\n",
       "    }\n",
       "\n",
       "    .dataframe thead th {\n",
       "        text-align: right;\n",
       "    }\n",
       "</style>\n",
       "<table border=\"1\" class=\"dataframe\">\n",
       "  <thead>\n",
       "    <tr style=\"text-align: right;\">\n",
       "      <th></th>\n",
       "      <th>model</th>\n",
       "      <th>year</th>\n",
       "      <th>pricePD</th>\n",
       "      <th>transmission</th>\n",
       "      <th>engine size</th>\n",
       "      <th>mileage</th>\n",
       "      <th>fuel type</th>\n",
       "    </tr>\n",
       "  </thead>\n",
       "  <tbody>\n",
       "    <tr>\n",
       "      <th>0</th>\n",
       "      <td>Focus</td>\n",
       "      <td>2016</td>\n",
       "      <td>8000.0</td>\n",
       "      <td>Manual</td>\n",
       "      <td>1.0</td>\n",
       "      <td>38852</td>\n",
       "      <td>Petrol</td>\n",
       "    </tr>\n",
       "    <tr>\n",
       "      <th>1</th>\n",
       "      <td>Focus</td>\n",
       "      <td>2019</td>\n",
       "      <td>13400.0</td>\n",
       "      <td>Manual</td>\n",
       "      <td>1.0</td>\n",
       "      <td>11952</td>\n",
       "      <td>Petrol</td>\n",
       "    </tr>\n",
       "    <tr>\n",
       "      <th>2</th>\n",
       "      <td>Focus</td>\n",
       "      <td>2019</td>\n",
       "      <td>14600.0</td>\n",
       "      <td>Manual</td>\n",
       "      <td>1.5</td>\n",
       "      <td>22142</td>\n",
       "      <td>Petrol</td>\n",
       "    </tr>\n",
       "    <tr>\n",
       "      <th>3</th>\n",
       "      <td>Focus</td>\n",
       "      <td>2016</td>\n",
       "      <td>9450.0</td>\n",
       "      <td>Manual</td>\n",
       "      <td>1.6</td>\n",
       "      <td>14549</td>\n",
       "      <td>Diesel</td>\n",
       "    </tr>\n",
       "    <tr>\n",
       "      <th>4</th>\n",
       "      <td>Focus</td>\n",
       "      <td>2015</td>\n",
       "      <td>9999.0</td>\n",
       "      <td>Manual</td>\n",
       "      <td>1.6</td>\n",
       "      <td>7010</td>\n",
       "      <td>Diesel</td>\n",
       "    </tr>\n",
       "  </tbody>\n",
       "</table>\n",
       "</div>"
      ],
      "text/plain": [
       "    model  year  pricePD transmission  engine size  mileage fuel type\n",
       "0   Focus  2016   8000.0       Manual          1.0    38852    Petrol\n",
       "1   Focus  2019  13400.0       Manual          1.0    11952    Petrol\n",
       "2   Focus  2019  14600.0       Manual          1.5    22142    Petrol\n",
       "3   Focus  2016   9450.0       Manual          1.6    14549    Diesel\n",
       "4   Focus  2015   9999.0       Manual          1.6     7010    Diesel"
      ]
     },
     "execution_count": 21,
     "metadata": {},
     "output_type": "execute_result"
    }
   ],
   "source": [
    "df_focus.head()"
   ]
  },
  {
   "cell_type": "code",
   "execution_count": 22,
   "id": "ecb74c5c-e00e-430f-a50d-3105fc975030",
   "metadata": {},
   "outputs": [],
   "source": [
    "### zrobic wykresy zaleznosci, heat map, boxplot, zaleznosci cen od tego czy disel czy benzyna, w zaleznosci od roku?\n",
    "### przedzialu lat?? ilosc ogloszen z manualna i automatyczna, sredni przebieg auta oraz wiek, podzial na silniki\n",
    "### potem zrobic regresje liniowa, oraz multi regresje liniowa"
   ]
  },
  {
   "cell_type": "markdown",
   "id": "ebc86a47-b216-480f-a442-7a7e080ee0fd",
   "metadata": {},
   "source": [
    "Now we will create boxplot to visualise spread of variable price in pounds."
   ]
  },
  {
   "cell_type": "code",
   "execution_count": 23,
   "id": "89915904-3a64-4039-9856-d2acbc88516a",
   "metadata": {},
   "outputs": [
    {
     "data": {
      "image/png": "[encoded data removed]",
      "text/plain": [
       "<Figure size 432x288 with 1 Axes>"
      ]
     },
     "metadata": {
      "needs_background": "light"
     },
     "output_type": "display_data"
    },
    {
     "data": {
      "text/plain": [
       "count     5442.000000\n",
       "mean     13582.471334\n",
       "std       4739.585635\n",
       "min        495.000000\n",
       "25%      10490.000000\n",
       "50%      13300.000000\n",
       "75%      16989.750000\n",
       "max      54995.000000\n",
       "Name: pricePD, dtype: float64"
      ]
     },
     "execution_count": 23,
     "metadata": {},
     "output_type": "execute_result"
    }
   ],
   "source": [
    "plt.title('Ford Focus Price Spread')\n",
    "sns.boxplot(y=df_focus.pricePD)\n",
    "plt.show()\n",
    "df_focus.pricePD.describe()"
   ]
  },
  {
   "cell_type": "markdown",
   "id": "b26e1b7a-df1d-41f2-b7d5-e307d445786c",
   "metadata": {},
   "source": [
    "When we look at the box-plot we can see, that average price of Ford Focus is around 13,5K Pounds, exactly the same \n",
    "is about the median. The cheapest Ford Focus we can found on auctions at price 495 Pounds and the most expensive around 55K.\n",
    "\n",
    "Now we will create a histogram to see distribution of the value Price in Pounds."
   ]
  },
  {
   "cell_type": "code",
   "execution_count": 24,
   "id": "f5ac8461-83df-48d7-9682-e5f21004774f",
   "metadata": {},
   "outputs": [
    {
     "data": {
      "image/png": "[encoded data removed]",
      "text/plain": [
       "<Figure size 432x288 with 1 Axes>"
      ]
     },
     "metadata": {
      "needs_background": "light"
     },
     "output_type": "display_data"
    }
   ],
   "source": [
    "plt.title('Ford Focus Price Distribution Plot')\n",
    "sns.histplot(df_focus.pricePD)\n",
    "plt.show()"
   ]
  },
  {
   "cell_type": "markdown",
   "id": "d46f55f7-3c10-4007-a900-570e4627d3dd",
   "metadata": {},
   "source": [
    "Now we will create boxplot to visualise spread of variable mileage and a histogram to see distribution of the value mileage."
   ]
  },
  {
   "cell_type": "code",
   "execution_count": 25,
   "id": "ab184ccb-b103-42d0-b7de-f0bafc937f79",
   "metadata": {},
   "outputs": [
    {
     "data": {
      "image/png": "[encoded data removed]",
      "text/plain": [
       "<Figure size 432x288 with 1 Axes>"
      ]
     },
     "metadata": {
      "needs_background": "light"
     },
     "output_type": "display_data"
    },
    {
     "data": {
      "text/plain": [
       "count      5442.000000\n",
       "mean      22881.219588\n",
       "std       20612.589290\n",
       "min           1.000000\n",
       "25%        9137.000000\n",
       "50%       15932.500000\n",
       "75%       30063.750000\n",
       "max      177644.000000\n",
       "Name: mileage, dtype: float64"
      ]
     },
     "execution_count": 25,
     "metadata": {},
     "output_type": "execute_result"
    }
   ],
   "source": [
    "plt.title('Ford Focus Mileage Spread')\n",
    "sns.boxplot(y=df_focus.mileage)\n",
    "plt.show()\n",
    "df_focus.mileage.describe()"
   ]
  },
  {
   "cell_type": "code",
   "execution_count": 26,
   "id": "93f1eb66-d3fc-488f-a8df-24049f8b1d43",
   "metadata": {},
   "outputs": [
    {
     "data": {
      "image/png": "[encoded data removed]",
      "text/plain": [
       "<Figure size 432x288 with 1 Axes>"
      ]
     },
     "metadata": {
      "needs_background": "light"
     },
     "output_type": "display_data"
    }
   ],
   "source": [
    "plt.title('Ford Focus Mileage Distribution Plot')\n",
    "sns.histplot(df_focus.mileage)\n",
    "plt.show()"
   ]
  },
  {
   "cell_type": "markdown",
   "id": "9dc6e246-422d-4c5e-bedb-e78f4be5131c",
   "metadata": {},
   "source": [
    "Checking the multicollinearity."
   ]
  },
  {
   "cell_type": "code",
   "execution_count": 27,
   "id": "cfa62cc5-fc94-4360-b61e-3ae49e0e3129",
   "metadata": {},
   "outputs": [
    {
     "data": {
      "image/png": "[encoded data removed]",
      "text/plain": [
       "<Figure size 432x288 with 2 Axes>"
      ]
     },
     "metadata": {
      "needs_background": "light"
     },
     "output_type": "display_data"
    }
   ],
   "source": [
    "sns.heatmap(df_focus.corr(),annot=True)\n",
    "plt.show()"
   ]
  },
  {
   "cell_type": "markdown",
   "id": "2c88ab23-a878-4920-ac62-0cde01187b9d",
   "metadata": {},
   "source": [
    "There is high positive correlation between:\n",
    "- year and price in pounds: 0,76; \n",
    "\n",
    "Also we can se there is high negative corelation between: \n",
    "- year and mileage: -0,81;\n",
    "- price in pounds ang mileage: - 0,74;"
   ]
  },
  {
   "cell_type": "markdown",
   "id": "342aa013-032d-4923-8492-1d4d852d1fb2",
   "metadata": {},
   "source": [
    "Plots with corelations that we observe:"
   ]
  },
  {
   "cell_type": "code",
   "execution_count": 28,
   "id": "433113c6-cadb-4f5a-a0c0-8a588f3a2387",
   "metadata": {},
   "outputs": [
    {
     "data": {
      "image/png": "[encoded data removed]",
      "text/plain": [
       "<Figure size 1440x864 with 3 Axes>"
      ]
     },
     "metadata": {
      "needs_background": "light"
     },
     "output_type": "display_data"
    }
   ],
   "source": [
    "plt.figure(figsize=(20, 12))\n",
    "\n",
    "plt.subplot(3,3,1)\n",
    "sns.scatterplot(data=df_focus, x=\"mileage\", y=\"pricePD\")\n",
    "\n",
    "plt.subplot(3,3,2)\n",
    "sns.scatterplot(data=df_focus, x=\"year\", y=\"mileage\")\n",
    "\n",
    "plt.subplot(3,3,3)\n",
    "sns.scatterplot(data=df_focus, x=\"year\", y=\"pricePD\")\n",
    "\n",
    "plt.show()"
   ]
  },
  {
   "cell_type": "markdown",
   "id": "b6d779e9-4444-40b5-8e3f-c0d42383fb78",
   "metadata": {},
   "source": [
    "Price vs Fuel type and additionaly histogram with numbers of oferts depending on fuel type:"
   ]
  },
  {
   "cell_type": "code",
   "execution_count": 29,
   "id": "1c946626-79be-40ed-bc04-22e6fc89a3c1",
   "metadata": {},
   "outputs": [
    {
     "data": {
      "image/png": "[encoded data removed]",
      "text/plain": [
       "<Figure size 1440x864 with 2 Axes>"
      ]
     },
     "metadata": {
      "needs_background": "light"
     },
     "output_type": "display_data"
    }
   ],
   "source": [
    "plt.figure(figsize=(20, 12))\n",
    "\n",
    "plt.subplot(2,3,1)\n",
    "sns.boxplot(x = 'fuel type', y= 'pricePD', data=df_focus)\n",
    "\n",
    "plt.subplot(2,3,2)\n",
    "plt.title('Fuel Type Histogram')\n",
    "order = df_focus['fuel type'].value_counts(ascending=False).index\n",
    "sns.countplot(x='fuel type', data=df_focus, order=order)\n",
    "\n",
    "plt.show()"
   ]
  },
  {
   "cell_type": "code",
   "execution_count": 30,
   "id": "41444e1a-335b-4807-95c6-ffb441926e94",
   "metadata": {},
   "outputs": [
    {
     "data": {
      "text/html": [
       "<div>\n",
       "<style scoped>\n",
       "    .dataframe tbody tr th:only-of-type {\n",
       "        vertical-align: middle;\n",
       "    }\n",
       "\n",
       "    .dataframe tbody tr th {\n",
       "        vertical-align: top;\n",
       "    }\n",
       "\n",
       "    .dataframe thead th {\n",
       "        text-align: right;\n",
       "    }\n",
       "</style>\n",
       "<table border=\"1\" class=\"dataframe\">\n",
       "  <thead>\n",
       "    <tr style=\"text-align: right;\">\n",
       "      <th></th>\n",
       "      <th>Petrol</th>\n",
       "      <th>Diesel</th>\n",
       "    </tr>\n",
       "  </thead>\n",
       "  <tbody>\n",
       "    <tr>\n",
       "      <th>count</th>\n",
       "      <td>3536.00</td>\n",
       "      <td>1906.00</td>\n",
       "    </tr>\n",
       "    <tr>\n",
       "      <th>mean</th>\n",
       "      <td>13919.09</td>\n",
       "      <td>12957.98</td>\n",
       "    </tr>\n",
       "    <tr>\n",
       "      <th>std</th>\n",
       "      <td>4680.10</td>\n",
       "      <td>4786.93</td>\n",
       "    </tr>\n",
       "    <tr>\n",
       "      <th>min</th>\n",
       "      <td>495.00</td>\n",
       "      <td>1290.00</td>\n",
       "    </tr>\n",
       "    <tr>\n",
       "      <th>25%</th>\n",
       "      <td>10997.75</td>\n",
       "      <td>9312.50</td>\n",
       "    </tr>\n",
       "    <tr>\n",
       "      <th>50%</th>\n",
       "      <td>13990.00</td>\n",
       "      <td>11998.00</td>\n",
       "    </tr>\n",
       "    <tr>\n",
       "      <th>75%</th>\n",
       "      <td>16990.00</td>\n",
       "      <td>16932.75</td>\n",
       "    </tr>\n",
       "    <tr>\n",
       "      <th>max</th>\n",
       "      <td>54995.00</td>\n",
       "      <td>38015.00</td>\n",
       "    </tr>\n",
       "  </tbody>\n",
       "</table>\n",
       "</div>"
      ],
      "text/plain": [
       "         Petrol    Diesel\n",
       "count   3536.00   1906.00\n",
       "mean   13919.09  12957.98\n",
       "std     4680.10   4786.93\n",
       "min      495.00   1290.00\n",
       "25%    10997.75   9312.50\n",
       "50%    13990.00  11998.00\n",
       "75%    16990.00  16932.75\n",
       "max    54995.00  38015.00"
      ]
     },
     "execution_count": 30,
     "metadata": {},
     "output_type": "execute_result"
    }
   ],
   "source": [
    "petrol = df_focus[df_focus['fuel type']== 'Petrol']['pricePD'].describe()\n",
    "diesel = df_focus[df_focus['fuel type']== 'Diesel']['pricePD'].describe()\n",
    "describe_petrol = pd.DataFrame({'Petrol': petrol, 'Diesel': diesel})\n",
    "describe_petrol =np.round(describe_petrol, 2)\n",
    "describe_petrol"
   ]
  },
  {
   "cell_type": "markdown",
   "id": "8ff7b607-2eef-4860-b4b0-f58216691d2e",
   "metadata": {},
   "source": [
    "Price vs transmission system and additionaly histogram with numbers of oferts depending \n",
    "on transmission system:"
   ]
  },
  {
   "cell_type": "code",
   "execution_count": 31,
   "id": "552aeac4-8b65-4d93-af04-a68d9d98cf24",
   "metadata": {},
   "outputs": [
    {
     "data": {
      "image/png": "[encoded data removed]",
      "text/plain": [
       "<Figure size 1440x864 with 2 Axes>"
      ]
     },
     "metadata": {
      "needs_background": "light"
     },
     "output_type": "display_data"
    }
   ],
   "source": [
    "plt.figure(figsize=(20, 12))\n",
    "\n",
    "plt.subplot(2,3,1)\n",
    "sns.boxplot(x = 'transmission', y= 'pricePD', data=df_focus)\n",
    "\n",
    "plt.subplot(2,3,2)\n",
    "plt.title('Transmission Type Histogram')\n",
    "order = df_focus['transmission'].value_counts(ascending=False).index\n",
    "sns.countplot(x='transmission', data=df_focus, order=order)\n",
    "\n",
    "plt.show()"
   ]
  },
  {
   "cell_type": "code",
   "execution_count": 32,
   "id": "82cbe43e-59ed-45f2-857a-9ca2b779523e",
   "metadata": {},
   "outputs": [
    {
     "data": {
      "text/html": [
       "<div>\n",
       "<style scoped>\n",
       "    .dataframe tbody tr th:only-of-type {\n",
       "        vertical-align: middle;\n",
       "    }\n",
       "\n",
       "    .dataframe tbody tr th {\n",
       "        vertical-align: top;\n",
       "    }\n",
       "\n",
       "    .dataframe thead th {\n",
       "        text-align: right;\n",
       "    }\n",
       "</style>\n",
       "<table border=\"1\" class=\"dataframe\">\n",
       "  <thead>\n",
       "    <tr style=\"text-align: right;\">\n",
       "      <th></th>\n",
       "      <th>Manual</th>\n",
       "      <th>Automatic</th>\n",
       "      <th>Semi-Auto</th>\n",
       "    </tr>\n",
       "  </thead>\n",
       "  <tbody>\n",
       "    <tr>\n",
       "      <th>count</th>\n",
       "      <td>4652.00</td>\n",
       "      <td>635.00</td>\n",
       "      <td>155.00</td>\n",
       "    </tr>\n",
       "    <tr>\n",
       "      <th>mean</th>\n",
       "      <td>13276.47</td>\n",
       "      <td>16349.27</td>\n",
       "      <td>11431.59</td>\n",
       "    </tr>\n",
       "    <tr>\n",
       "      <th>std</th>\n",
       "      <td>4686.96</td>\n",
       "      <td>4540.92</td>\n",
       "      <td>2505.72</td>\n",
       "    </tr>\n",
       "    <tr>\n",
       "      <th>min</th>\n",
       "      <td>495.00</td>\n",
       "      <td>1475.00</td>\n",
       "      <td>5490.00</td>\n",
       "    </tr>\n",
       "    <tr>\n",
       "      <th>25%</th>\n",
       "      <td>10200.00</td>\n",
       "      <td>13496.50</td>\n",
       "      <td>9935.00</td>\n",
       "    </tr>\n",
       "    <tr>\n",
       "      <th>50%</th>\n",
       "      <td>12998.00</td>\n",
       "      <td>17320.00</td>\n",
       "      <td>11550.00</td>\n",
       "    </tr>\n",
       "    <tr>\n",
       "      <th>75%</th>\n",
       "      <td>16498.00</td>\n",
       "      <td>19485.00</td>\n",
       "      <td>12655.00</td>\n",
       "    </tr>\n",
       "    <tr>\n",
       "      <th>max</th>\n",
       "      <td>54995.00</td>\n",
       "      <td>30999.00</td>\n",
       "      <td>19979.00</td>\n",
       "    </tr>\n",
       "  </tbody>\n",
       "</table>\n",
       "</div>"
      ],
      "text/plain": [
       "         Manual  Automatic  Semi-Auto\n",
       "count   4652.00     635.00     155.00\n",
       "mean   13276.47   16349.27   11431.59\n",
       "std     4686.96    4540.92    2505.72\n",
       "min      495.00    1475.00    5490.00\n",
       "25%    10200.00   13496.50    9935.00\n",
       "50%    12998.00   17320.00   11550.00\n",
       "75%    16498.00   19485.00   12655.00\n",
       "max    54995.00   30999.00   19979.00"
      ]
     },
     "execution_count": 32,
     "metadata": {},
     "output_type": "execute_result"
    }
   ],
   "source": [
    "manual = df_focus[df_focus['transmission']== 'Manual']['pricePD'].describe()\n",
    "automatic = df_focus[df_focus['transmission']== 'Automatic']['pricePD'].describe()\n",
    "semi_auto = df_focus[df_focus['transmission']== 'Semi-Auto']['pricePD'].describe()\n",
    "describe_transmission = pd.DataFrame({\n",
    "    'Manual': manual, \n",
    "    'Automatic': automatic,\n",
    "    'Semi-Auto': semi_auto\n",
    "})\n",
    "describe_transmission =np.round(describe_transmission, 2)\n",
    "describe_transmission"
   ]
  },
  {
   "cell_type": "markdown",
   "id": "91db0e5f-8736-4025-bffd-61cf5df6788b",
   "metadata": {},
   "source": [
    "Price vs engine size and additionaly histogram with numbers of oferts depending on \n",
    "engine size:"
   ]
  },
  {
   "cell_type": "code",
   "execution_count": 33,
   "id": "8ede2ddb-62e6-4046-b1a1-dfeccb10fd5a",
   "metadata": {},
   "outputs": [
    {
     "data": {
      "image/png": "[encoded data removed]",
      "text/plain": [
       "<Figure size 1440x864 with 2 Axes>"
      ]
     },
     "metadata": {
      "needs_background": "light"
     },
     "output_type": "display_data"
    }
   ],
   "source": [
    "plt.figure(figsize=(20, 12))\n",
    "\n",
    "plt.subplot(2,3,1)\n",
    "sns.boxplot(x = 'engine size', y= 'pricePD', data=df_focus)\n",
    "\n",
    "plt.subplot(2,3,2)\n",
    "plt.title('Engine Size Histogram')\n",
    "order = df_focus['engine size'].value_counts(ascending=False).index\n",
    "sns.countplot(x='engine size', data=df_focus, order=order)\n",
    "\n",
    "plt.show()"
   ]
  },
  {
   "cell_type": "code",
   "execution_count": 34,
   "id": "74ce82e3-11ba-425d-827d-05148617f235",
   "metadata": {},
   "outputs": [
    {
     "data": {
      "text/html": [
       "<div>\n",
       "<style scoped>\n",
       "    .dataframe tbody tr th:only-of-type {\n",
       "        vertical-align: middle;\n",
       "    }\n",
       "\n",
       "    .dataframe tbody tr th {\n",
       "        vertical-align: top;\n",
       "    }\n",
       "\n",
       "    .dataframe thead th {\n",
       "        text-align: right;\n",
       "    }\n",
       "</style>\n",
       "<table border=\"1\" class=\"dataframe\">\n",
       "  <thead>\n",
       "    <tr style=\"text-align: right;\">\n",
       "      <th></th>\n",
       "      <th>1.0</th>\n",
       "      <th>1.4</th>\n",
       "      <th>1.5</th>\n",
       "      <th>1.6</th>\n",
       "      <th>1.8</th>\n",
       "      <th>2.0</th>\n",
       "      <th>2.3</th>\n",
       "      <th>2.5</th>\n",
       "    </tr>\n",
       "  </thead>\n",
       "  <tbody>\n",
       "    <tr>\n",
       "      <th>count</th>\n",
       "      <td>2601.00</td>\n",
       "      <td>1.0</td>\n",
       "      <td>1466.00</td>\n",
       "      <td>361.00</td>\n",
       "      <td>16.00</td>\n",
       "      <td>889.00</td>\n",
       "      <td>103.00</td>\n",
       "      <td>5.00</td>\n",
       "    </tr>\n",
       "    <tr>\n",
       "      <th>mean</th>\n",
       "      <td>13317.07</td>\n",
       "      <td>2495.0</td>\n",
       "      <td>13047.49</td>\n",
       "      <td>6038.02</td>\n",
       "      <td>2602.00</td>\n",
       "      <td>16913.71</td>\n",
       "      <td>27564.81</td>\n",
       "      <td>10235.80</td>\n",
       "    </tr>\n",
       "    <tr>\n",
       "      <th>std</th>\n",
       "      <td>3352.59</td>\n",
       "      <td>NaN</td>\n",
       "      <td>4034.34</td>\n",
       "      <td>2273.52</td>\n",
       "      <td>948.77</td>\n",
       "      <td>3780.73</td>\n",
       "      <td>3379.30</td>\n",
       "      <td>6402.81</td>\n",
       "    </tr>\n",
       "    <tr>\n",
       "      <th>min</th>\n",
       "      <td>3000.00</td>\n",
       "      <td>2495.0</td>\n",
       "      <td>5492.00</td>\n",
       "      <td>495.00</td>\n",
       "      <td>1290.00</td>\n",
       "      <td>675.00</td>\n",
       "      <td>22000.00</td>\n",
       "      <td>5995.00</td>\n",
       "    </tr>\n",
       "    <tr>\n",
       "      <th>25%</th>\n",
       "      <td>10995.00</td>\n",
       "      <td>2495.0</td>\n",
       "      <td>9998.25</td>\n",
       "      <td>4500.00</td>\n",
       "      <td>1771.00</td>\n",
       "      <td>15500.00</td>\n",
       "      <td>25747.50</td>\n",
       "      <td>6995.00</td>\n",
       "    </tr>\n",
       "    <tr>\n",
       "      <th>50%</th>\n",
       "      <td>13291.00</td>\n",
       "      <td>2495.0</td>\n",
       "      <td>11995.00</td>\n",
       "      <td>6395.00</td>\n",
       "      <td>2645.00</td>\n",
       "      <td>17503.00</td>\n",
       "      <td>27995.00</td>\n",
       "      <td>7490.00</td>\n",
       "    </tr>\n",
       "    <tr>\n",
       "      <th>75%</th>\n",
       "      <td>16000.00</td>\n",
       "      <td>2495.0</td>\n",
       "      <td>16245.00</td>\n",
       "      <td>7499.00</td>\n",
       "      <td>3346.00</td>\n",
       "      <td>18998.00</td>\n",
       "      <td>28805.00</td>\n",
       "      <td>9199.00</td>\n",
       "    </tr>\n",
       "    <tr>\n",
       "      <th>max</th>\n",
       "      <td>25998.00</td>\n",
       "      <td>2495.0</td>\n",
       "      <td>38015.00</td>\n",
       "      <td>12495.00</td>\n",
       "      <td>4195.00</td>\n",
       "      <td>29000.00</td>\n",
       "      <td>54995.00</td>\n",
       "      <td>21500.00</td>\n",
       "    </tr>\n",
       "  </tbody>\n",
       "</table>\n",
       "</div>"
      ],
      "text/plain": [
       "            1.0     1.4       1.5       1.6      1.8       2.0       2.3  \\\n",
       "count   2601.00     1.0   1466.00    361.00    16.00    889.00    103.00   \n",
       "mean   13317.07  2495.0  13047.49   6038.02  2602.00  16913.71  27564.81   \n",
       "std     3352.59     NaN   4034.34   2273.52   948.77   3780.73   3379.30   \n",
       "min     3000.00  2495.0   5492.00    495.00  1290.00    675.00  22000.00   \n",
       "25%    10995.00  2495.0   9998.25   4500.00  1771.00  15500.00  25747.50   \n",
       "50%    13291.00  2495.0  11995.00   6395.00  2645.00  17503.00  27995.00   \n",
       "75%    16000.00  2495.0  16245.00   7499.00  3346.00  18998.00  28805.00   \n",
       "max    25998.00  2495.0  38015.00  12495.00  4195.00  29000.00  54995.00   \n",
       "\n",
       "            2.5  \n",
       "count      5.00  \n",
       "mean   10235.80  \n",
       "std     6402.81  \n",
       "min     5995.00  \n",
       "25%     6995.00  \n",
       "50%     7490.00  \n",
       "75%     9199.00  \n",
       "max    21500.00  "
      ]
     },
     "execution_count": 34,
     "metadata": {},
     "output_type": "execute_result"
    }
   ],
   "source": [
    "engines = df_focus['engine size'].unique()\n",
    "describe_engine = pd.DataFrame({\n",
    "    esize: df_focus[df_focus['engine size']== esize]['pricePD'].describe() for esize in engines\n",
    "    },)\n",
    "describe_engine = describe_engine.reindex(labels=sorted(list(engines)),axis=1)\n",
    "describe_engine =np.round(describe_engine, 2)\n",
    "describe_engine\n"
   ]
  },
  {
   "cell_type": "markdown",
   "id": "25a78126-2271-48b1-a61b-fdcf0dd661a7",
   "metadata": {},
   "source": [
    "Price vs year of production size and additionaly histogram with numbers of oferts \n",
    "depending on year of production:"
   ]
  },
  {
   "cell_type": "code",
   "execution_count": 35,
   "id": "895c3a08-9887-4b88-8bc8-91d1ec8b0abb",
   "metadata": {},
   "outputs": [
    {
     "data": {
      "image/png": "[encoded data removed]",
      "text/plain": [
       "<Figure size 1440x1080 with 2 Axes>"
      ]
     },
     "metadata": {
      "needs_background": "light"
     },
     "output_type": "display_data"
    }
   ],
   "source": [
    "plt.figure(figsize=(20, 15))\n",
    "\n",
    "plt.subplot(2,3,1)\n",
    "sns.boxplot(x = 'year', y= 'pricePD', data=df_focus)\n",
    "plt.xticks(rotation=90)\n",
    "\n",
    "plt.subplot(2,3,2)\n",
    "plt.title('Year of Production Histogram')\n",
    "order = df_focus['year'].value_counts(ascending=True).index\n",
    "sns.countplot(x='year', data=df_focus, order=order)\n",
    "plt.xticks(rotation=90)\n",
    "\n",
    "plt.show()"
   ]
  },
  {
   "cell_type": "code",
   "execution_count": 36,
   "id": "6aca62b1-9acc-4e17-9836-25a0179d4bef",
   "metadata": {},
   "outputs": [
    {
     "data": {
      "text/html": [
       "<div>\n",
       "<style scoped>\n",
       "    .dataframe tbody tr th:only-of-type {\n",
       "        vertical-align: middle;\n",
       "    }\n",
       "\n",
       "    .dataframe tbody tr th {\n",
       "        vertical-align: top;\n",
       "    }\n",
       "\n",
       "    .dataframe thead th {\n",
       "        text-align: right;\n",
       "    }\n",
       "</style>\n",
       "<table border=\"1\" class=\"dataframe\">\n",
       "  <thead>\n",
       "    <tr style=\"text-align: right;\">\n",
       "      <th></th>\n",
       "      <th>2002</th>\n",
       "      <th>2003</th>\n",
       "      <th>2005</th>\n",
       "      <th>2006</th>\n",
       "      <th>2007</th>\n",
       "      <th>2008</th>\n",
       "      <th>2009</th>\n",
       "      <th>2010</th>\n",
       "      <th>2011</th>\n",
       "      <th>2012</th>\n",
       "      <th>2013</th>\n",
       "      <th>2014</th>\n",
       "      <th>2015</th>\n",
       "      <th>2016</th>\n",
       "      <th>2017</th>\n",
       "      <th>2018</th>\n",
       "      <th>2019</th>\n",
       "      <th>2020</th>\n",
       "    </tr>\n",
       "  </thead>\n",
       "  <tbody>\n",
       "    <tr>\n",
       "      <th>count</th>\n",
       "      <td>1.0</td>\n",
       "      <td>4.00</td>\n",
       "      <td>10.00</td>\n",
       "      <td>3.00</td>\n",
       "      <td>15.00</td>\n",
       "      <td>25.00</td>\n",
       "      <td>36.00</td>\n",
       "      <td>19.00</td>\n",
       "      <td>32.00</td>\n",
       "      <td>42.00</td>\n",
       "      <td>150.00</td>\n",
       "      <td>156.00</td>\n",
       "      <td>390.00</td>\n",
       "      <td>552.00</td>\n",
       "      <td>1285.00</td>\n",
       "      <td>1064.00</td>\n",
       "      <td>1592.00</td>\n",
       "      <td>66.00</td>\n",
       "    </tr>\n",
       "    <tr>\n",
       "      <th>mean</th>\n",
       "      <td>795.0</td>\n",
       "      <td>1941.00</td>\n",
       "      <td>1558.90</td>\n",
       "      <td>2061.67</td>\n",
       "      <td>3129.27</td>\n",
       "      <td>2461.44</td>\n",
       "      <td>3517.36</td>\n",
       "      <td>3730.84</td>\n",
       "      <td>5192.38</td>\n",
       "      <td>5775.76</td>\n",
       "      <td>6470.84</td>\n",
       "      <td>7590.14</td>\n",
       "      <td>8829.91</td>\n",
       "      <td>10909.49</td>\n",
       "      <td>12590.47</td>\n",
       "      <td>14611.87</td>\n",
       "      <td>17859.09</td>\n",
       "      <td>21104.55</td>\n",
       "    </tr>\n",
       "    <tr>\n",
       "      <th>std</th>\n",
       "      <td>NaN</td>\n",
       "      <td>1474.31</td>\n",
       "      <td>620.90</td>\n",
       "      <td>513.16</td>\n",
       "      <td>1559.67</td>\n",
       "      <td>692.84</td>\n",
       "      <td>3157.52</td>\n",
       "      <td>1417.95</td>\n",
       "      <td>1222.78</td>\n",
       "      <td>1151.14</td>\n",
       "      <td>1333.55</td>\n",
       "      <td>1739.35</td>\n",
       "      <td>1802.94</td>\n",
       "      <td>2872.69</td>\n",
       "      <td>2933.00</td>\n",
       "      <td>3066.88</td>\n",
       "      <td>3035.26</td>\n",
       "      <td>3206.29</td>\n",
       "    </tr>\n",
       "    <tr>\n",
       "      <th>min</th>\n",
       "      <td>795.0</td>\n",
       "      <td>495.00</td>\n",
       "      <td>675.00</td>\n",
       "      <td>1495.00</td>\n",
       "      <td>1450.00</td>\n",
       "      <td>1290.00</td>\n",
       "      <td>1695.00</td>\n",
       "      <td>2495.00</td>\n",
       "      <td>3295.00</td>\n",
       "      <td>3899.00</td>\n",
       "      <td>2995.00</td>\n",
       "      <td>4990.00</td>\n",
       "      <td>5492.00</td>\n",
       "      <td>6299.00</td>\n",
       "      <td>7495.00</td>\n",
       "      <td>9950.00</td>\n",
       "      <td>6900.00</td>\n",
       "      <td>15600.00</td>\n",
       "    </tr>\n",
       "    <tr>\n",
       "      <th>25%</th>\n",
       "      <td>795.0</td>\n",
       "      <td>1305.00</td>\n",
       "      <td>1074.75</td>\n",
       "      <td>1845.00</td>\n",
       "      <td>2145.00</td>\n",
       "      <td>1995.00</td>\n",
       "      <td>2495.00</td>\n",
       "      <td>2762.00</td>\n",
       "      <td>4420.00</td>\n",
       "      <td>5000.00</td>\n",
       "      <td>5899.75</td>\n",
       "      <td>6618.75</td>\n",
       "      <td>7600.00</td>\n",
       "      <td>9000.00</td>\n",
       "      <td>10789.00</td>\n",
       "      <td>12499.00</td>\n",
       "      <td>15995.00</td>\n",
       "      <td>18502.75</td>\n",
       "    </tr>\n",
       "    <tr>\n",
       "      <th>50%</th>\n",
       "      <td>795.0</td>\n",
       "      <td>1635.00</td>\n",
       "      <td>1525.00</td>\n",
       "      <td>2195.00</td>\n",
       "      <td>2695.00</td>\n",
       "      <td>2499.00</td>\n",
       "      <td>2995.00</td>\n",
       "      <td>3000.00</td>\n",
       "      <td>5147.00</td>\n",
       "      <td>5499.00</td>\n",
       "      <td>6438.50</td>\n",
       "      <td>7296.50</td>\n",
       "      <td>8463.50</td>\n",
       "      <td>10000.00</td>\n",
       "      <td>11698.00</td>\n",
       "      <td>13700.00</td>\n",
       "      <td>17150.00</td>\n",
       "      <td>20000.00</td>\n",
       "    </tr>\n",
       "    <tr>\n",
       "      <th>75%</th>\n",
       "      <td>795.0</td>\n",
       "      <td>2271.00</td>\n",
       "      <td>1967.50</td>\n",
       "      <td>2345.00</td>\n",
       "      <td>3245.00</td>\n",
       "      <td>2900.00</td>\n",
       "      <td>3487.50</td>\n",
       "      <td>4242.50</td>\n",
       "      <td>5793.75</td>\n",
       "      <td>6493.75</td>\n",
       "      <td>6796.75</td>\n",
       "      <td>7997.50</td>\n",
       "      <td>9498.00</td>\n",
       "      <td>11605.50</td>\n",
       "      <td>13000.00</td>\n",
       "      <td>16495.00</td>\n",
       "      <td>18978.75</td>\n",
       "      <td>22497.50</td>\n",
       "    </tr>\n",
       "    <tr>\n",
       "      <th>max</th>\n",
       "      <td>795.0</td>\n",
       "      <td>3999.00</td>\n",
       "      <td>2495.00</td>\n",
       "      <td>2495.00</td>\n",
       "      <td>6995.00</td>\n",
       "      <td>3695.00</td>\n",
       "      <td>21500.00</td>\n",
       "      <td>7490.00</td>\n",
       "      <td>9199.00</td>\n",
       "      <td>9799.00</td>\n",
       "      <td>12495.00</td>\n",
       "      <td>14800.00</td>\n",
       "      <td>14740.00</td>\n",
       "      <td>25000.00</td>\n",
       "      <td>38015.00</td>\n",
       "      <td>54995.00</td>\n",
       "      <td>30359.00</td>\n",
       "      <td>30999.00</td>\n",
       "    </tr>\n",
       "  </tbody>\n",
       "</table>\n",
       "</div>"
      ],
      "text/plain": [
       "        2002     2003     2005     2006     2007     2008      2009     2010  \\\n",
       "count    1.0     4.00    10.00     3.00    15.00    25.00     36.00    19.00   \n",
       "mean   795.0  1941.00  1558.90  2061.67  3129.27  2461.44   3517.36  3730.84   \n",
       "std      NaN  1474.31   620.90   513.16  1559.67   692.84   3157.52  1417.95   \n",
       "min    795.0   495.00   675.00  1495.00  1450.00  1290.00   1695.00  2495.00   \n",
       "25%    795.0  1305.00  1074.75  1845.00  2145.00  1995.00   2495.00  2762.00   \n",
       "50%    795.0  1635.00  1525.00  2195.00  2695.00  2499.00   2995.00  3000.00   \n",
       "75%    795.0  2271.00  1967.50  2345.00  3245.00  2900.00   3487.50  4242.50   \n",
       "max    795.0  3999.00  2495.00  2495.00  6995.00  3695.00  21500.00  7490.00   \n",
       "\n",
       "          2011     2012      2013      2014      2015      2016      2017  \\\n",
       "count    32.00    42.00    150.00    156.00    390.00    552.00   1285.00   \n",
       "mean   5192.38  5775.76   6470.84   7590.14   8829.91  10909.49  12590.47   \n",
       "std    1222.78  1151.14   1333.55   1739.35   1802.94   2872.69   2933.00   \n",
       "min    3295.00  3899.00   2995.00   4990.00   5492.00   6299.00   7495.00   \n",
       "25%    4420.00  5000.00   5899.75   6618.75   7600.00   9000.00  10789.00   \n",
       "50%    5147.00  5499.00   6438.50   7296.50   8463.50  10000.00  11698.00   \n",
       "75%    5793.75  6493.75   6796.75   7997.50   9498.00  11605.50  13000.00   \n",
       "max    9199.00  9799.00  12495.00  14800.00  14740.00  25000.00  38015.00   \n",
       "\n",
       "           2018      2019      2020  \n",
       "count   1064.00   1592.00     66.00  \n",
       "mean   14611.87  17859.09  21104.55  \n",
       "std     3066.88   3035.26   3206.29  \n",
       "min     9950.00   6900.00  15600.00  \n",
       "25%    12499.00  15995.00  18502.75  \n",
       "50%    13700.00  17150.00  20000.00  \n",
       "75%    16495.00  18978.75  22497.50  \n",
       "max    54995.00  30359.00  30999.00  "
      ]
     },
     "execution_count": 36,
     "metadata": {},
     "output_type": "execute_result"
    }
   ],
   "source": [
    "years = df_focus['year'].unique()\n",
    "describe_years = pd.DataFrame({\n",
    "    f'{y}': df_focus[df_focus['year']== y]['pricePD'].describe() for y in years\n",
    "    },)\n",
    "describe_years = describe_years.reindex(columns=sorted(str(y) for y in years))\n",
    "describe_years =np.round(describe_years, 2)\n",
    "describe_years\n"
   ]
  },
  {
   "cell_type": "markdown",
   "id": "16d95f41-4de5-4592-b7a7-d541b0755266",
   "metadata": {},
   "source": [
    "Now we will be using plynominal regression imported from sklearn."
   ]
  },
  {
   "cell_type": "markdown",
   "id": "c5df04c1-a581-4e3a-805c-a190edacb819",
   "metadata": {},
   "source": [
    "Firstly we will take correlation between price and year."
   ]
  },
  {
   "cell_type": "code",
   "execution_count": 37,
   "id": "3a2d8e9b-fc55-46b4-b0fa-c33f15a34624",
   "metadata": {},
   "outputs": [
    {
     "name": "stdout",
     "output_type": "stream",
     "text": [
      "Score of training is: 66.69%\n",
      "Score of testing is: 58.39%\n"
     ]
    }
   ],
   "source": [
    "x = df_focus['year'].values.reshape((-1,1))\n",
    "y = df_focus['pricePD'].values\n",
    "x_train, x_test, y_train, y_test = train_test_split(x, y, test_size = 0.3, random_state= 100,)\n",
    "\n",
    "poly_reg = PolynomialFeatures(degree = 3)\n",
    "x_train = poly_reg.fit_transform(x_train)\n",
    "x_test = poly_reg.fit_transform(x_test)\n",
    "poly_reg_model = LinearRegression()\n",
    "poly_reg_model.fit(x_train, y_train)\n",
    "print('Score of training is: '+ str((poly_reg_model.score(x_train,y_train)*100).round(2))+'%')\n",
    "print('Score of testing is: '+ str((poly_reg_model.score(x_test,y_test)*100).round(2))+'%')\n",
    "\n"
   ]
  },
  {
   "cell_type": "code",
   "execution_count": 38,
   "id": "2655294d-c70f-4435-9798-3a440ab1696a",
   "metadata": {},
   "outputs": [
    {
     "data": {
      "image/png": "[encoded data removed]",
      "text/plain": [
       "<Figure size 432x288 with 1 Axes>"
      ]
     },
     "metadata": {
      "needs_background": "light"
     },
     "output_type": "display_data"
    }
   ],
   "source": [
    "uniq_x = df_focus['year'].unique().reshape((-1,1))\n",
    "plt.scatter(df_focus['year'],df_focus['pricePD'],color='red', label='collected values')\n",
    "plt.plot(uniq_x, poly_reg_model.predict(poly_reg.fit_transform(uniq_x)), label= 'Polynominal regression')\n",
    "plt.title('Prediction model')\n",
    "plt.xlabel('Year')\n",
    "plt.ylabel('Price')\n",
    "plt.xticks(rotation=90, ticks=range(2002,2021))\n",
    "plt.show()"
   ]
  },
  {
   "cell_type": "markdown",
   "id": "5dc3f709-d508-48c0-8f5f-f60a4fcdbbd6",
   "metadata": {},
   "source": [
    "Year and mileage polynominal prediction."
   ]
  },
  {
   "cell_type": "code",
   "execution_count": 39,
   "id": "30756acf-efaa-4c38-9b51-e98ce367b5d2",
   "metadata": {},
   "outputs": [
    {
     "name": "stdout",
     "output_type": "stream",
     "text": [
      "Score of training is: 67.02%\n",
      "Score of testing is: 63.47%\n"
     ]
    }
   ],
   "source": [
    "x = df_focus['year'].values.reshape((-1,1))\n",
    "y = df_focus['mileage'].values\n",
    "x_train, x_test, y_train, y_test = train_test_split(x, y, test_size = 0.3, random_state= 100,)\n",
    "\n",
    "poly_reg = PolynomialFeatures(degree = 2)\n",
    "x_train = poly_reg.fit_transform(x_train)\n",
    "x_test = poly_reg.fit_transform(x_test)\n",
    "poly_reg_model = LinearRegression()\n",
    "poly_reg_model.fit(x_train, y_train)\n",
    "print('Score of training is: '+ str((poly_reg_model.score(x_train,y_train)*100).round(2))+'%')\n",
    "print('Score of testing is: '+ str((poly_reg_model.score(x_test,y_test)*100).round(2))+'%')\n"
   ]
  },
  {
   "cell_type": "code",
   "execution_count": 40,
   "id": "86cf3111-ed2f-4155-bda9-8f0fe98002b9",
   "metadata": {},
   "outputs": [
    {
     "data": {
      "image/png": "[encoded data removed]",
      "text/plain": [
       "<Figure size 432x288 with 1 Axes>"
      ]
     },
     "metadata": {
      "needs_background": "light"
     },
     "output_type": "display_data"
    }
   ],
   "source": [
    "uniq_x = df_focus['year'].unique().reshape((-1,1))\n",
    "plt.scatter(x,y,color='red', label='collected values')\n",
    "plt.plot(uniq_x, poly_reg_model.predict(poly_reg.fit_transform(uniq_x)), label= 'Polynominal regression')\n",
    "plt.title('Prediction model')\n",
    "plt.xlabel('Year')\n",
    "plt.ylabel('Mileage')\n",
    "plt.xticks(rotation=90, ticks=range(2002,2021))\n",
    "plt.show()"
   ]
  },
  {
   "cell_type": "markdown",
   "id": "b2368abd-bd31-42b4-828e-83028bf031ac",
   "metadata": {},
   "source": [
    "Price and mileage polynominal prediction."
   ]
  },
  {
   "cell_type": "code",
   "execution_count": 41,
   "id": "ab653c21-1c95-42d1-a1d1-eb28a4f5f775",
   "metadata": {},
   "outputs": [
    {
     "name": "stdout",
     "output_type": "stream",
     "text": [
      "Score of training is: 62.73%\n",
      "Score of testing is: 54.94%\n"
     ]
    }
   ],
   "source": [
    "x = df_focus['mileage'].values.reshape((-1,1))\n",
    "y = df_focus['pricePD'].values\n",
    "x_train, x_test, y_train, y_test = train_test_split(x, y, test_size = 0.3, random_state= 100,)\n",
    "\n",
    "poly_reg = PolynomialFeatures(degree = 3)\n",
    "x_train = poly_reg.fit_transform(x_train)\n",
    "x_test = poly_reg.fit_transform(x_test)\n",
    "poly_reg_model = LinearRegression()\n",
    "poly_reg_model.fit(x_train, y_train)\n",
    "print('Score of training is: '+ str((poly_reg_model.score(x_train,y_train)*100).round(2))+'%')\n",
    "print('Score of testing is: '+ str((poly_reg_model.score(x_test,y_test)*100).round(2))+'%')\n"
   ]
  },
  {
   "cell_type": "code",
   "execution_count": 42,
   "id": "481a2749-64bd-4f2e-be8b-7b679d7f0d8d",
   "metadata": {},
   "outputs": [
    {
     "data": {
      "image/png": "[encoded data removed]",
      "text/plain": [
       "<Figure size 432x288 with 1 Axes>"
      ]
     },
     "metadata": {
      "needs_background": "light"
     },
     "output_type": "display_data"
    }
   ],
   "source": [
    "uniq_x = np.array(range(0,160000,10000)).reshape((-1,1))\n",
    "plt.scatter(x,y,color='red', label='collected values')\n",
    "plt.plot(uniq_x, poly_reg_model.predict(poly_reg.fit_transform(uniq_x)), label= 'Polynominal regression')\n",
    "plt.title('Prediction model')\n",
    "plt.xlabel('Price')\n",
    "plt.ylabel('Mileage')\n",
    "plt.xticks(rotation=90, ticks=range(0,160000,10000))\n",
    "pylab.xlim(-1000,150000)\n",
    "plt.show()"
   ]
  },
  {
   "cell_type": "markdown",
   "id": "07aa590f-0068-4bfc-bcbb-92dd612b3998",
   "metadata": {},
   "source": [
    "Multivarite linear Regression.\n",
    "\n",
    "Because there is only high corelation between price and milage or year we will take only 2 arguments as x independent values."
   ]
  },
  {
   "cell_type": "code",
   "execution_count": 43,
   "id": "182e7b29-5781-4c5f-9590-fe245a6c078e",
   "metadata": {},
   "outputs": [
    {
     "name": "stdout",
     "output_type": "stream",
     "text": [
      "Model training score: 62.67%\n",
      "Model testing score: 62.35%\n"
     ]
    }
   ],
   "source": [
    "x = df_focus[['year', 'mileage']].values\n",
    "y = df_focus['pricePD'].values\n",
    "\n",
    "x_train, x_test, y_train, y_test = train_test_split(x, y, test_size=1/5, random_state=0)\n",
    "multiple_linear_regressor = LinearRegression()\n",
    "multiple_linear_regressor.fit(x_train, y_train)\n",
    "print('Model training score: '+str((multiple_linear_regressor.score(x_train, y_train)*100).round(2))+'%')\n",
    "print('Model testing score: '+str((multiple_linear_regressor.score(x_test, y_test)*100).round(2))+'%')"
   ]
  },
  {
   "cell_type": "markdown",
   "id": "beed3b4f-d905-4de8-a415-41156bee45fc",
   "metadata": {},
   "source": [
    "Multivarite polynominal Regression."
   ]
  },
  {
   "cell_type": "code",
   "execution_count": 44,
   "id": "74ad7060-4ac7-4fb4-a985-5c8c92d1eb5f",
   "metadata": {},
   "outputs": [
    {
     "name": "stdout",
     "output_type": "stream",
     "text": [
      "Score of training is: 69.0%\n",
      "Score of testing is: 68.48%\n"
     ]
    }
   ],
   "source": [
    "x = df_focus[['year', 'mileage']].values\n",
    "y = df_focus['pricePD'].values\n",
    "x_train, x_test, y_train, y_test = train_test_split(x, y, test_size=1/5, random_state=0)\n",
    "\n",
    "poly_reg = PolynomialFeatures(degree = 3)\n",
    "x_train = poly_reg.fit_transform(x_train)\n",
    "x_test = poly_reg.fit_transform(x_test)\n",
    "poly_reg_model = LinearRegression()\n",
    "poly_reg_model.fit(x_train, y_train)\n",
    "print('Score of training is: '+ str((poly_reg_model.score(x_train,y_train)*100).round(2))+'%')\n",
    "print('Score of testing is: '+ str((poly_reg_model.score(x_test,y_test)*100).round(2))+'%')"
   ]
  },
  {
   "cell_type": "markdown",
   "id": "a6643452-3822-4132-b5f0-7b3391bc15ab",
   "metadata": {},
   "source": [
    "Trying to do linear regression with 5 x independent values: 'year', 'engine size', 'mileage', 'transmission', 'fuel type'"
   ]
  },
  {
   "cell_type": "code",
   "execution_count": 45,
   "id": "cb323f3f-9f81-43c2-be1e-5a9154bc7cee",
   "metadata": {},
   "outputs": [],
   "source": [
    "from sklearn.preprocessing import LabelEncoder, OneHotEncoder, StandardScaler\n",
    "\n",
    "\n"
   ]
  },
  {
   "cell_type": "code",
   "execution_count": 46,
   "id": "cce58587-42e7-4081-be30-58b276010069",
   "metadata": {},
   "outputs": [],
   "source": [
    "x = df_focus.reindex(columns=['year', 'engine size', 'mileage', 'transmission', 'fuel type', 'model', 'pricePD'])\n",
    "x = x.iloc[:,:5].values\n",
    "y = df_focus['pricePD'].values"
   ]
  },
  {
   "cell_type": "code",
   "execution_count": 47,
   "id": "894489b1-fbac-454d-8a77-9b59c3c55b71",
   "metadata": {},
   "outputs": [],
   "source": [
    "from sklearn.compose import ColumnTransformer\n",
    "labelencoder_x = LabelEncoder()\n",
    "#x[:,3] = labelencoder_x.fit_transform(x[:,3])\n",
    "#x[:,4] = labelencoder_x.fit_transform(x[:,4])\n",
    "ct = ColumnTransformer([(\"transmission\", OneHotEncoder(), [3]),(\"fuel type\", OneHotEncoder(), [4])], remainder = 'passthrough')\n",
    "x = ct.fit_transform(x)\n"
   ]
  },
  {
   "cell_type": "code",
   "execution_count": 48,
   "id": "c9ee738f-2baa-4717-920b-b7593122eaa0",
   "metadata": {},
   "outputs": [],
   "source": [
    "X_train, X_test, y_train, y_test = train_test_split(x, y, test_size=1/5, random_state=0)\n",
    "\n"
   ]
  },
  {
   "cell_type": "code",
   "execution_count": 49,
   "id": "6da5dbe6-0e1d-495b-aa4e-ea3d62a6e673",
   "metadata": {},
   "outputs": [
    {
     "name": "stdout",
     "output_type": "stream",
     "text": [
      "Model training score: 83.98%\n",
      "Model testing score: 85.98%\n"
     ]
    }
   ],
   "source": [
    "multiple_linear_regressor = LinearRegression()\n",
    "multiple_linear_regressor.fit(X_train, y_train)\n",
    "print('Model training score: '+str((multiple_linear_regressor.score(X_train, y_train)*100).round(2))+'%')\n",
    "print('Model testing score: '+str((multiple_linear_regressor.score(X_test, y_test)*100).round(2))+'%')"
   ]
  },
  {
   "cell_type": "markdown",
   "id": "2ec124ba-a8f2-4d82-ae9e-557063acbb85",
   "metadata": {},
   "source": [
    "Trying to do polynominal regression with 5 x independent values: 'year', 'engine size', 'mileage', 'transmission', 'fuel type'"
   ]
  },
  {
   "cell_type": "code",
   "execution_count": 50,
   "id": "38a6b70c-dfdd-456b-87ea-43e43dfe7cf0",
   "metadata": {},
   "outputs": [
    {
     "name": "stdout",
     "output_type": "stream",
     "text": [
      "Score of training is: 90.2%\n",
      "Score of testing is: 91.94%\n"
     ]
    }
   ],
   "source": [
    "poly_reg = PolynomialFeatures(degree = 2)\n",
    "X_train = poly_reg.fit_transform(X_train)\n",
    "X_test = poly_reg.fit_transform(X_test)\n",
    "poly_reg_model = LinearRegression()\n",
    "poly_reg_model.fit(X_train, y_train)\n",
    "print('Score of training is: '+ str((poly_reg_model.score(X_train,y_train)*100).round(2))+'%')\n",
    "print('Score of testing is: '+ str((poly_reg_model.score(X_test,y_test)*100).round(2))+'%')\n",
    "\n"
   ]
  },
  {
   "cell_type": "code",
   "execution_count": null,
   "id": "69bd358e-e96d-4ef5-bbae-50814d3d6a55",
   "metadata": {},
   "outputs": [],
   "source": []
  }
 ],
 "metadata": {
  "kernelspec": {
   "display_name": "Python 3 (ipykernel)",
   "language": "python",
   "name": "python3"
  },
  "language_info": {
   "codemirror_mode": {
    "name": "ipython",
    "version": 3
   },
   "file_extension": ".py",
   "mimetype": "text/x-python",
   "name": "python",
   "nbconvert_exporter": "python",
   "pygments_lexer": "ipython3",
   "version": "3.9.12"
  }
 },
 "nbformat": 4,
 "nbformat_minor": 5
}
